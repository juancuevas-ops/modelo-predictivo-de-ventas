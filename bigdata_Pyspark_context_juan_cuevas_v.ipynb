{
  "nbformat": 4,
  "nbformat_minor": 0,
  "metadata": {
    "colab": {
      "name": "bigdata_Pyspark_context_juan_cuevas_v.ipynb",
      "provenance": [],
      "collapsed_sections": [],
      "authorship_tag": "ABX9TyP5d3FeC6Rf9H48Ce9P5XZP",
      "include_colab_link": true
    },
    "kernelspec": {
      "name": "python3",
      "display_name": "Python 3"
    },
    "language_info": {
      "name": "python"
    }
  },
  "cells": [
    {
      "cell_type": "markdown",
      "metadata": {
        "id": "view-in-github",
        "colab_type": "text"
      },
      "source": [
        "<a href=\"https://colab.research.google.com/github/juancuevas-ops/modelo-predictivo-de-ventas/blob/main/bigdata_Pyspark_context_juan_cuevas_v.ipynb\" target=\"_parent\"><img src=\"https://colab.research.google.com/assets/colab-badge.svg\" alt=\"Open In Colab\"/></a>"
      ]
    },
    {
      "cell_type": "code",
      "metadata": {
        "colab": {
          "base_uri": "https://localhost:8080/"
        },
        "id": "CHvwCFNGSFKh",
        "outputId": "4efc28b2-4ef9-4566-8500-62fae382846a"
      },
      "source": [
        "!pip install pyspark\n",
        "import pyspark\n",
        "from pyspark import SparkContext\n",
        "sc =SparkContext()"
      ],
      "execution_count": 2,
      "outputs": [
        {
          "output_type": "stream",
          "name": "stdout",
          "text": [
            "Collecting pyspark\n",
            "  Downloading pyspark-3.2.0.tar.gz (281.3 MB)\n",
            "\u001b[K     |████████████████████████████████| 281.3 MB 39 kB/s \n",
            "\u001b[?25hCollecting py4j==0.10.9.2\n",
            "  Downloading py4j-0.10.9.2-py2.py3-none-any.whl (198 kB)\n",
            "\u001b[K     |████████████████████████████████| 198 kB 44.9 MB/s \n",
            "\u001b[?25hBuilding wheels for collected packages: pyspark\n",
            "  Building wheel for pyspark (setup.py) ... \u001b[?25l\u001b[?25hdone\n",
            "  Created wheel for pyspark: filename=pyspark-3.2.0-py2.py3-none-any.whl size=281805912 sha256=4189eb81cd9989915e344a3cb1d1b41039bea7dde2ced23662a7ac42ad5f1885\n",
            "  Stored in directory: /root/.cache/pip/wheels/0b/de/d2/9be5d59d7331c6c2a7c1b6d1a4f463ce107332b1ecd4e80718\n",
            "Successfully built pyspark\n",
            "Installing collected packages: py4j, pyspark\n",
            "Successfully installed py4j-0.10.9.2 pyspark-3.2.0\n"
          ]
        }
      ]
    },
    {
      "cell_type": "code",
      "metadata": {
        "id": "Nzs3PQ5HSpZd"
      },
      "source": [
        "nums= sc.parallelize([1,2,3,4])"
      ],
      "execution_count": 3,
      "outputs": []
    },
    {
      "cell_type": "code",
      "metadata": {
        "colab": {
          "base_uri": "https://localhost:8080/"
        },
        "id": "k57aeoa-S0OT",
        "outputId": "4d950748-1d1c-4b6d-8d7f-9a31c6eb5bc8"
      },
      "source": [
        " \t\n",
        "nums.take(1)"
      ],
      "execution_count": 4,
      "outputs": [
        {
          "output_type": "execute_result",
          "data": {
            "text/plain": [
              "[1]"
            ]
          },
          "metadata": {},
          "execution_count": 4
        }
      ]
    },
    {
      "cell_type": "code",
      "metadata": {
        "colab": {
          "base_uri": "https://localhost:8080/"
        },
        "id": "gWkVhDHxS80r",
        "outputId": "cb25e3cb-83e4-4051-bec5-a94c19c0dcca"
      },
      "source": [
        "squared = nums.map(lambda x: x*x).collect()\n",
        "for num in squared:\n",
        "    print('%i ' % (num))"
      ],
      "execution_count": 5,
      "outputs": [
        {
          "output_type": "stream",
          "name": "stdout",
          "text": [
            "1 \n",
            "4 \n",
            "9 \n",
            "16 \n"
          ]
        }
      ]
    },
    {
      "cell_type": "code",
      "metadata": {
        "colab": {
          "base_uri": "https://localhost:8080/"
        },
        "id": "4w7RlQWATKIi",
        "outputId": "ad6fb796-f74a-468a-922f-fb3a21bc252c"
      },
      "source": [
        "from pyspark.sql import Row\n",
        "from pyspark.sql import SQLContext\n",
        " \n",
        "sqlContext = SQLContext(sc)"
      ],
      "execution_count": 6,
      "outputs": [
        {
          "output_type": "stream",
          "name": "stderr",
          "text": [
            "/usr/local/lib/python3.7/dist-packages/pyspark/sql/context.py:79: FutureWarning: Deprecated in 3.0.0. Use SparkSession.builder.getOrCreate() instead.\n",
            "  FutureWarning\n"
          ]
        }
      ]
    },
    {
      "cell_type": "code",
      "metadata": {
        "id": "66mCqS-LTU4f"
      },
      "source": [
        "list_p = [('John',19),('Smith',29),('Adam',35),('Henry',50)]"
      ],
      "execution_count": 9,
      "outputs": []
    },
    {
      "cell_type": "code",
      "metadata": {
        "id": "esixcmaMTZk5"
      },
      "source": [
        "rdd = sc.parallelize(list_p)"
      ],
      "execution_count": 10,
      "outputs": []
    },
    {
      "cell_type": "code",
      "metadata": {
        "colab": {
          "base_uri": "https://localhost:8080/"
        },
        "id": "PPBzxKysToBi",
        "outputId": "207a2f42-984a-42ef-8c92-cf567c2704d7"
      },
      "source": [
        "rdd"
      ],
      "execution_count": 11,
      "outputs": [
        {
          "output_type": "execute_result",
          "data": {
            "text/plain": [
              "ParallelCollectionRDD[3] at readRDDFromFile at PythonRDD.scala:274"
            ]
          },
          "metadata": {},
          "execution_count": 11
        }
      ]
    },
    {
      "cell_type": "code",
      "metadata": {
        "colab": {
          "base_uri": "https://localhost:8080/"
        },
        "id": "peLVPD2wT4c5",
        "outputId": "08cd0d95-695c-4d25-ec7b-9a7c6cf7137a"
      },
      "source": [
        " \t\n",
        "rdd.map(lambda x: Row(name=x[0], age=int(x[1])))"
      ],
      "execution_count": 12,
      "outputs": [
        {
          "output_type": "execute_result",
          "data": {
            "text/plain": [
              "PythonRDD[4] at RDD at PythonRDD.scala:53"
            ]
          },
          "metadata": {},
          "execution_count": 12
        }
      ]
    },
    {
      "cell_type": "code",
      "metadata": {
        "id": "xPkj5073T9f-"
      },
      "source": [
        "sqlContext.createDataFrame(list_p)\n",
        "list_p = [('John',19),('Smith',29),('Adam',35),('Henry',50)]\n",
        "rdd = sc.parallelize(list_p)\n"
      ],
      "execution_count": 15,
      "outputs": []
    },
    {
      "cell_type": "code",
      "metadata": {
        "id": "mN1mCUmaUM8m"
      },
      "source": [
        "list_p = rdd.map(lambda x: Row(name=x[0], age=int(x[1])))\n",
        "DF_ppl = sqlContext.createDataFrame(list_p)"
      ],
      "execution_count": 16,
      "outputs": []
    },
    {
      "cell_type": "code",
      "metadata": {
        "colab": {
          "base_uri": "https://localhost:8080/"
        },
        "id": "xL_46_5YUmLH",
        "outputId": "358ae3a8-9de9-437f-a3d8-7c5483ae6066"
      },
      "source": [
        "DF_ppl.printSchema()"
      ],
      "execution_count": 17,
      "outputs": [
        {
          "output_type": "stream",
          "name": "stdout",
          "text": [
            "root\n",
            " |-- name: string (nullable = true)\n",
            " |-- age: long (nullable = true)\n",
            "\n"
          ]
        }
      ]
    },
    {
      "cell_type": "code",
      "metadata": {
        "colab": {
          "base_uri": "https://localhost:8080/"
        },
        "id": "e1DgN4inU3uI",
        "outputId": "72ad9b56-68a3-46a8-9672-34d0932bffef"
      },
      "source": [
        "from pyspark.sql import SQLContext\n",
        "url = \"https://raw.githubusercontent.com/guru99-edu/R-Programming/master/adult_data.csv\"\n",
        "from pyspark import SparkFiles\n",
        "sc.addFile(url)\n",
        "sqlContext = SQLContext(sc)"
      ],
      "execution_count": 18,
      "outputs": [
        {
          "output_type": "stream",
          "name": "stderr",
          "text": [
            "/usr/local/lib/python3.7/dist-packages/pyspark/sql/context.py:79: FutureWarning: Deprecated in 3.0.0. Use SparkSession.builder.getOrCreate() instead.\n",
            "  FutureWarning\n"
          ]
        }
      ]
    },
    {
      "cell_type": "code",
      "metadata": {
        "colab": {
          "base_uri": "https://localhost:8080/",
          "height": 36
        },
        "id": "aL1E7fMMU-Ra",
        "outputId": "de095c6d-888a-4382-a4a3-5492b0baa49b"
      },
      "source": [
        "url"
      ],
      "execution_count": 19,
      "outputs": [
        {
          "output_type": "execute_result",
          "data": {
            "application/vnd.google.colaboratory.intrinsic+json": {
              "type": "string"
            },
            "text/plain": [
              "'https://raw.githubusercontent.com/guru99-edu/R-Programming/master/adult_data.csv'"
            ]
          },
          "metadata": {},
          "execution_count": 19
        }
      ]
    },
    {
      "cell_type": "code",
      "metadata": {
        "id": "c4i8Xw7NVCU0"
      },
      "source": [
        "df = sqlContext.read.csv(SparkFiles.get(\"adult_data.csv\"), header=True, inferSchema= True)"
      ],
      "execution_count": 20,
      "outputs": []
    },
    {
      "cell_type": "code",
      "metadata": {
        "colab": {
          "base_uri": "https://localhost:8080/"
        },
        "id": "_urIzou8WR_b",
        "outputId": "9bf98890-d1f0-437e-983d-40aad8233b04"
      },
      "source": [
        "df.printSchema()"
      ],
      "execution_count": 21,
      "outputs": [
        {
          "output_type": "stream",
          "name": "stdout",
          "text": [
            "root\n",
            " |-- x: integer (nullable = true)\n",
            " |-- age: integer (nullable = true)\n",
            " |-- workclass: string (nullable = true)\n",
            " |-- fnlwgt: integer (nullable = true)\n",
            " |-- education: string (nullable = true)\n",
            " |-- educational-num: integer (nullable = true)\n",
            " |-- marital-status: string (nullable = true)\n",
            " |-- occupation: string (nullable = true)\n",
            " |-- relationship: string (nullable = true)\n",
            " |-- race: string (nullable = true)\n",
            " |-- gender: string (nullable = true)\n",
            " |-- capital-gain: integer (nullable = true)\n",
            " |-- capital-loss: integer (nullable = true)\n",
            " |-- hours-per-week: integer (nullable = true)\n",
            " |-- native-country: string (nullable = true)\n",
            " |-- income: string (nullable = true)\n",
            "\n"
          ]
        }
      ]
    },
    {
      "cell_type": "code",
      "metadata": {
        "colab": {
          "base_uri": "https://localhost:8080/"
        },
        "id": "M2lY7ia3WyRu",
        "outputId": "f8f87be1-590a-457f-de01-7396e9836012"
      },
      "source": [
        " \t\n",
        "df.show(5, truncate = False)"
      ],
      "execution_count": 22,
      "outputs": [
        {
          "output_type": "stream",
          "name": "stdout",
          "text": [
            "+---+---+---------+------+------------+---------------+------------------+-----------------+------------+-----+------+------------+------------+--------------+--------------+------+\n",
            "|x  |age|workclass|fnlwgt|education   |educational-num|marital-status    |occupation       |relationship|race |gender|capital-gain|capital-loss|hours-per-week|native-country|income|\n",
            "+---+---+---------+------+------------+---------------+------------------+-----------------+------------+-----+------+------------+------------+--------------+--------------+------+\n",
            "|1  |25 |Private  |226802|11th        |7              |Never-married     |Machine-op-inspct|Own-child   |Black|Male  |0           |0           |40            |United-States |<=50K |\n",
            "|2  |38 |Private  |89814 |HS-grad     |9              |Married-civ-spouse|Farming-fishing  |Husband     |White|Male  |0           |0           |50            |United-States |<=50K |\n",
            "|3  |28 |Local-gov|336951|Assoc-acdm  |12             |Married-civ-spouse|Protective-serv  |Husband     |White|Male  |0           |0           |40            |United-States |>50K  |\n",
            "|4  |44 |Private  |160323|Some-college|10             |Married-civ-spouse|Machine-op-inspct|Husband     |Black|Male  |7688        |0           |40            |United-States |>50K  |\n",
            "|5  |18 |?        |103497|Some-college|10             |Never-married     |?                |Own-child   |White|Female|0           |0           |30            |United-States |<=50K |\n",
            "+---+---+---------+------+------------+---------------+------------------+-----------------+------------+-----+------+------------+------------+--------------+--------------+------+\n",
            "only showing top 5 rows\n",
            "\n"
          ]
        }
      ]
    },
    {
      "cell_type": "code",
      "metadata": {
        "colab": {
          "base_uri": "https://localhost:8080/"
        },
        "id": "5O3LvndEX5PP",
        "outputId": "5208f9ec-516c-4279-efe8-28c119c246f0"
      },
      "source": [
        "df_string = sqlContext.read.csv(SparkFiles.get(\"adult_data.csv\"), header=True, inferSchema=  False)\n",
        "df_string.printSchema()"
      ],
      "execution_count": 24,
      "outputs": [
        {
          "output_type": "stream",
          "name": "stdout",
          "text": [
            "root\n",
            " |-- x: string (nullable = true)\n",
            " |-- age: string (nullable = true)\n",
            " |-- workclass: string (nullable = true)\n",
            " |-- fnlwgt: string (nullable = true)\n",
            " |-- education: string (nullable = true)\n",
            " |-- educational-num: string (nullable = true)\n",
            " |-- marital-status: string (nullable = true)\n",
            " |-- occupation: string (nullable = true)\n",
            " |-- relationship: string (nullable = true)\n",
            " |-- race: string (nullable = true)\n",
            " |-- gender: string (nullable = true)\n",
            " |-- capital-gain: string (nullable = true)\n",
            " |-- capital-loss: string (nullable = true)\n",
            " |-- hours-per-week: string (nullable = true)\n",
            " |-- native-country: string (nullable = true)\n",
            " |-- income: string (nullable = true)\n",
            "\n"
          ]
        }
      ]
    },
    {
      "cell_type": "code",
      "metadata": {
        "colab": {
          "base_uri": "https://localhost:8080/"
        },
        "id": "wmLnPQlaamZk",
        "outputId": "b1486f54-024d-4117-9466-d265d5185ca8"
      },
      "source": [
        "from pyspark.ml.feature import StringIndexer\n",
        "#stringIndexer = StringIndexer(inputCol=\"label\", outputCol=\"newlabel\")\n",
        "#model = stringIndexer.fit(df)\n",
        "#df = model.transform(df)\n",
        "df.printSchema()"
      ],
      "execution_count": 37,
      "outputs": [
        {
          "output_type": "stream",
          "name": "stdout",
          "text": [
            "root\n",
            " |-- x: integer (nullable = true)\n",
            " |-- age: integer (nullable = true)\n",
            " |-- workclass: string (nullable = true)\n",
            " |-- fnlwgt: integer (nullable = true)\n",
            " |-- education: string (nullable = true)\n",
            " |-- educational-num: integer (nullable = true)\n",
            " |-- marital-status: string (nullable = true)\n",
            " |-- occupation: string (nullable = true)\n",
            " |-- relationship: string (nullable = true)\n",
            " |-- race: string (nullable = true)\n",
            " |-- gender: string (nullable = true)\n",
            " |-- capital-gain: integer (nullable = true)\n",
            " |-- capital-loss: integer (nullable = true)\n",
            " |-- hours-per-week: integer (nullable = true)\n",
            " |-- native-country: string (nullable = true)\n",
            " |-- income: string (nullable = true)\n",
            "\n"
          ]
        }
      ]
    },
    {
      "cell_type": "code",
      "metadata": {
        "colab": {
          "base_uri": "https://localhost:8080/"
        },
        "id": "TA1PGmAaatmJ",
        "outputId": "9413fe08-087b-437e-bb6b-dd527b552333"
      },
      "source": [
        "df.select('age','fnlwgt').show(5)"
      ],
      "execution_count": 38,
      "outputs": [
        {
          "output_type": "stream",
          "name": "stdout",
          "text": [
            "+---+------+\n",
            "|age|fnlwgt|\n",
            "+---+------+\n",
            "| 25|226802|\n",
            "| 38| 89814|\n",
            "| 28|336951|\n",
            "| 44|160323|\n",
            "| 18|103497|\n",
            "+---+------+\n",
            "only showing top 5 rows\n",
            "\n"
          ]
        }
      ]
    },
    {
      "cell_type": "code",
      "metadata": {
        "colab": {
          "base_uri": "https://localhost:8080/"
        },
        "id": "iTrvInr3a0QO",
        "outputId": "ba8bf886-b8c5-4015-dde2-5274a78516ef"
      },
      "source": [
        " \t\n",
        "df.groupBy(\"education\").count().sort(\"count\",ascending=True).show()"
      ],
      "execution_count": 39,
      "outputs": [
        {
          "output_type": "stream",
          "name": "stdout",
          "text": [
            "+------------+-----+\n",
            "|   education|count|\n",
            "+------------+-----+\n",
            "|   Preschool|   83|\n",
            "|     1st-4th|  247|\n",
            "|     5th-6th|  509|\n",
            "|   Doctorate|  594|\n",
            "|        12th|  657|\n",
            "|         9th|  756|\n",
            "| Prof-school|  834|\n",
            "|     7th-8th|  955|\n",
            "|        10th| 1389|\n",
            "|  Assoc-acdm| 1601|\n",
            "|        11th| 1812|\n",
            "|   Assoc-voc| 2061|\n",
            "|     Masters| 2657|\n",
            "|   Bachelors| 8025|\n",
            "|Some-college|10878|\n",
            "|     HS-grad|15784|\n",
            "+------------+-----+\n",
            "\n"
          ]
        }
      ]
    },
    {
      "cell_type": "code",
      "metadata": {
        "colab": {
          "base_uri": "https://localhost:8080/"
        },
        "id": "L0asJOaMbBy6",
        "outputId": "831763b9-c439-4dba-d0e7-8b3ecf794b96"
      },
      "source": [
        "df.describe().show()"
      ],
      "execution_count": 42,
      "outputs": [
        {
          "output_type": "stream",
          "name": "stdout",
          "text": [
            "+-------+------------------+------------------+-----------+------------------+------------+------------------+--------------+----------------+------------+------------------+------+------------------+-----------------+------------------+--------------+------+\n",
            "|summary|                 x|               age|  workclass|            fnlwgt|   education|   educational-num|marital-status|      occupation|relationship|              race|gender|      capital-gain|     capital-loss|    hours-per-week|native-country|income|\n",
            "+-------+------------------+------------------+-----------+------------------+------------+------------------+--------------+----------------+------------+------------------+------+------------------+-----------------+------------------+--------------+------+\n",
            "|  count|             48842|             48842|      48842|             48842|       48842|             48842|         48842|           48842|       48842|             48842| 48842|             48842|            48842|             48842|         48842| 48842|\n",
            "|   mean|           24421.5| 38.64358543876172|       null|189664.13459727284|        null|10.078088530363212|          null|            null|        null|              null|  null|1079.0676262233324|87.50231358257237|40.422382375824085|          null|  null|\n",
            "| stddev|14099.615260708357|13.710509934443502|       null|105604.02542315757|        null| 2.570972755592252|          null|            null|        null|              null|  null| 7452.019057655413|403.0045521243591|12.391444024252289|          null|  null|\n",
            "|    min|                 1|                17|          ?|             12285|        10th|                 1|      Divorced|               ?|     Husband|Amer-Indian-Eskimo|Female|                 0|                0|                 1|             ?| <=50K|\n",
            "|    max|             48842|                90|Without-pay|           1490400|Some-college|                16|       Widowed|Transport-moving|        Wife|             White|  Male|             99999|             4356|                99|    Yugoslavia|  >50K|\n",
            "+-------+------------------+------------------+-----------+------------------+------------+------------------+--------------+----------------+------------+------------------+------+------------------+-----------------+------------------+--------------+------+\n",
            "\n"
          ]
        }
      ]
    },
    {
      "cell_type": "markdown",
      "metadata": {
        "id": "Hxwno5F7bjpg"
      },
      "source": [
        ""
      ]
    },
    {
      "cell_type": "code",
      "metadata": {
        "colab": {
          "base_uri": "https://localhost:8080/"
        },
        "id": "iCw2IdYTbgv7",
        "outputId": "846287c1-ca6f-4b18-9ecc-5512dc039224"
      },
      "source": [
        " \t\n",
        "df.describe('capital-gain').show()"
      ],
      "execution_count": 44,
      "outputs": [
        {
          "output_type": "stream",
          "name": "stdout",
          "text": [
            "+-------+------------------+\n",
            "|summary|      capital-gain|\n",
            "+-------+------------------+\n",
            "|  count|             48842|\n",
            "|   mean|1079.0676262233324|\n",
            "| stddev| 7452.019057655413|\n",
            "|    min|                 0|\n",
            "|    max|             99999|\n",
            "+-------+------------------+\n",
            "\n"
          ]
        }
      ]
    },
    {
      "cell_type": "code",
      "metadata": {
        "colab": {
          "base_uri": "https://localhost:8080/"
        },
        "id": "3W8-2u9rc-3Y",
        "outputId": "ccf5eb5e-5c0d-4c0d-e3b5-fd36972e63a9"
      },
      "source": [
        "\n",
        "\t\n",
        "df.drop('education_num').columns"
      ],
      "execution_count": 51,
      "outputs": [
        {
          "output_type": "execute_result",
          "data": {
            "text/plain": [
              "['x',\n",
              " 'age',\n",
              " 'workclass',\n",
              " 'fnlwgt',\n",
              " 'education',\n",
              " 'educational-num',\n",
              " 'marital-status',\n",
              " 'occupation',\n",
              " 'relationship',\n",
              " 'race',\n",
              " 'gender',\n",
              " 'capital-gain',\n",
              " 'capital-loss',\n",
              " 'hours-per-week',\n",
              " 'native-country',\n",
              " 'income']"
            ]
          },
          "metadata": {},
          "execution_count": 51
        }
      ]
    },
    {
      "cell_type": "code",
      "metadata": {
        "colab": {
          "base_uri": "https://localhost:8080/"
        },
        "id": "QBmqmtnidRce",
        "outputId": "de5ffdd6-22fd-4531-d3ce-0ea3a5837418"
      },
      "source": [
        "df.filter(df.age > 40).count()"
      ],
      "execution_count": 52,
      "outputs": [
        {
          "output_type": "execute_result",
          "data": {
            "text/plain": [
              "20211"
            ]
          },
          "metadata": {},
          "execution_count": 52
        }
      ]
    },
    {
      "cell_type": "code",
      "metadata": {
        "colab": {
          "base_uri": "https://localhost:8080/"
        },
        "id": "JINzbSiWdryl",
        "outputId": "3c7f2ffe-b5a6-45fe-eadb-871b86e1e2cd"
      },
      "source": [
        " \t\n",
        "df.groupby('race').agg({'capital-loss': 'mean'}).show()"
      ],
      "execution_count": 57,
      "outputs": [
        {
          "output_type": "stream",
          "name": "stdout",
          "text": [
            "+------------------+------------------+\n",
            "|              race| avg(capital-loss)|\n",
            "+------------------+------------------+\n",
            "|             Other| 62.95812807881774|\n",
            "|Amer-Indian-Eskimo|              37.8|\n",
            "|             White|  90.9158565202816|\n",
            "|Asian-Pac-Islander| 95.55760368663594|\n",
            "|             Black|61.575453575240125|\n",
            "+------------------+------------------+\n",
            "\n"
          ]
        }
      ]
    },
    {
      "cell_type": "code",
      "metadata": {
        "colab": {
          "base_uri": "https://localhost:8080/"
        },
        "id": "S5svyAQAe73A",
        "outputId": "ebfa7016-410d-4cb2-99b2-3d3bfefc2029"
      },
      "source": [
        " \t\n",
        "df.groupby('marital-status').agg({'capital-gain': 'mean'}).show()"
      ],
      "execution_count": 61,
      "outputs": [
        {
          "output_type": "stream",
          "name": "stdout",
          "text": [
            "+--------------------+------------------+\n",
            "|      marital-status| avg(capital-gain)|\n",
            "+--------------------+------------------+\n",
            "|           Separated| 581.8424836601307|\n",
            "|       Never-married|  384.382639449029|\n",
            "|Married-spouse-ab...| 629.0047770700637|\n",
            "|            Divorced| 793.6755615860094|\n",
            "|             Widowed| 603.6442687747035|\n",
            "|   Married-AF-spouse|2971.6216216216217|\n",
            "|  Married-civ-spouse|1739.7006121810625|\n",
            "+--------------------+------------------+\n",
            "\n"
          ]
        }
      ]
    },
    {
      "cell_type": "code",
      "metadata": {
        "colab": {
          "base_uri": "https://localhost:8080/"
        },
        "id": "zQ_DKdVQfuQV",
        "outputId": "192b03da-2db1-4992-8a60-30e168f3030f"
      },
      "source": [
        "from pyspark.sql.functions import *\n",
        " \n",
        "# 1 Select the column\n",
        "age_square = df.select(col(\"age\")**2)\n",
        " \n",
        "# 2 Apply the transformation and add it to the DataFrame\n",
        "df = df.withColumn(\"age_square\", col(\"age\")**2)\n",
        " \n",
        "df.printSchema()"
      ],
      "execution_count": 62,
      "outputs": [
        {
          "output_type": "stream",
          "name": "stdout",
          "text": [
            "root\n",
            " |-- x: integer (nullable = true)\n",
            " |-- age: integer (nullable = true)\n",
            " |-- workclass: string (nullable = true)\n",
            " |-- fnlwgt: integer (nullable = true)\n",
            " |-- education: string (nullable = true)\n",
            " |-- educational-num: integer (nullable = true)\n",
            " |-- marital-status: string (nullable = true)\n",
            " |-- occupation: string (nullable = true)\n",
            " |-- relationship: string (nullable = true)\n",
            " |-- race: string (nullable = true)\n",
            " |-- gender: string (nullable = true)\n",
            " |-- capital-gain: integer (nullable = true)\n",
            " |-- capital-loss: integer (nullable = true)\n",
            " |-- hours-per-week: integer (nullable = true)\n",
            " |-- native-country: string (nullable = true)\n",
            " |-- income: string (nullable = true)\n",
            " |-- age_square: double (nullable = true)\n",
            "\n"
          ]
        }
      ]
    },
    {
      "cell_type": "code",
      "metadata": {
        "colab": {
          "base_uri": "https://localhost:8080/"
        },
        "id": "iuJ2w5GteA2D",
        "outputId": "f8865554-ae6d-49d5-c8ec-7202274ccedc"
      },
      "source": [
        "df.describe().show()"
      ],
      "execution_count": 82,
      "outputs": [
        {
          "output_type": "stream",
          "name": "stdout",
          "text": [
            "+-------+------------------+------------------+-----------+------------------+------------+------------------+--------------+----------------+------------+------------------+------------------+-----------------+------------------+--------------+\n",
            "|summary|               age|        age_square|  workclass|            fnlwgt|   education|   educational-num|marital-status|      occupation|relationship|              race|      capital-gain|     capital-loss|    hours-per-week|native-country|\n",
            "+-------+------------------+------------------+-----------+------------------+------------+------------------+--------------+----------------+------------+------------------+------------------+-----------------+------------------+--------------+\n",
            "|  count|             48842|             48842|      48842|             48842|       48842|             48842|         48842|           48842|       48842|             48842|             48842|            48842|             48842|         48842|\n",
            "|   mean| 38.64358543876172|1681.3009295278653|       null|189664.13459727284|        null|10.078088530363212|          null|            null|        null|              null|1079.0676262233324|87.50231358257237|40.422382375824085|          null|\n",
            "| stddev|13.710509934443502|1187.0661823288658|       null|105604.02542315757|        null| 2.570972755592252|          null|            null|        null|              null| 7452.019057655413|403.0045521243591|12.391444024252289|          null|\n",
            "|    min|                17|             289.0|          ?|             12285|        10th|                 1|      Divorced|               ?|     Husband|Amer-Indian-Eskimo|                 0|                0|                 1|             ?|\n",
            "|    max|                90|            8100.0|Without-pay|           1490400|Some-college|                16|       Widowed|Transport-moving|        Wife|             White|             99999|             4356|                99|    Yugoslavia|\n",
            "+-------+------------------+------------------+-----------+------------------+------------+------------------+--------------+----------------+------------+------------------+------------------+-----------------+------------------+--------------+\n",
            "\n"
          ]
        }
      ]
    },
    {
      "cell_type": "code",
      "metadata": {
        "id": "Ott6FKN2kTMj"
      },
      "source": [
        "df.groupby('native-country').agg({'native-country': 'count'}).sort(asc(\"count(native-country)\")).show()"
      ],
      "execution_count": null,
      "outputs": []
    },
    {
      "cell_type": "code",
      "metadata": {
        "id": "0JmRH5T-gDnh"
      },
      "source": [
        "COLUMNS = ['age', 'age_square', 'workclass', 'fnlwgt', 'education', 'educational-num', 'marital-status',\n",
        "           'occupation', 'relationship', 'race', 'capital-gain', 'capital-loss',\n",
        "           'hours-per-week', 'native-country']\n"
      ],
      "execution_count": 77,
      "outputs": []
    },
    {
      "cell_type": "code",
      "metadata": {
        "colab": {
          "base_uri": "https://localhost:8080/"
        },
        "id": "_qPNyBoRgEHy",
        "outputId": "800a0d38-a123-4402-f080-9182eab5f2b2"
      },
      "source": [
        "df = df.select(COLUMNS)\n",
        "df.first()"
      ],
      "execution_count": 79,
      "outputs": [
        {
          "output_type": "execute_result",
          "data": {
            "text/plain": [
              "Row(age=25, age_square=625.0, workclass='Private', fnlwgt=226802, education='11th', educational-num=7, marital-status='Never-married', occupation='Machine-op-inspct', relationship='Own-child', race='Black', capital-gain=0, capital-loss=0, hours-per-week=40, native-country='United-States')"
            ]
          },
          "metadata": {},
          "execution_count": 79
        }
      ]
    },
    {
      "cell_type": "code",
      "metadata": {
        "colab": {
          "base_uri": "https://localhost:8080/"
        },
        "id": "8JIFIBR6iyt1",
        "outputId": "2294dc09-39a7-4c90-dc6f-fd1b1efd19c0"
      },
      "source": [
        " \n",
        "df.groupby('native-country').agg({'native-country': 'count'}).sort(asc(\"count(native-country)\")).show()"
      ],
      "execution_count": 89,
      "outputs": [
        {
          "output_type": "stream",
          "name": "stdout",
          "text": [
            "+--------------------+---------------------+\n",
            "|      native-country|count(native-country)|\n",
            "+--------------------+---------------------+\n",
            "|  Holand-Netherlands|                    1|\n",
            "|             Hungary|                   19|\n",
            "|            Honduras|                   20|\n",
            "|            Scotland|                   21|\n",
            "|          Yugoslavia|                   23|\n",
            "|Outlying-US(Guam-...|                   23|\n",
            "|                Laos|                   23|\n",
            "|     Trinadad&Tobago|                   27|\n",
            "|            Cambodia|                   28|\n",
            "|                Hong|                   30|\n",
            "|            Thailand|                   30|\n",
            "|             Ireland|                   37|\n",
            "|              France|                   38|\n",
            "|             Ecuador|                   45|\n",
            "|                Peru|                   46|\n",
            "|              Greece|                   49|\n",
            "|           Nicaragua|                   49|\n",
            "|                Iran|                   59|\n",
            "|              Taiwan|                   65|\n",
            "|            Portugal|                   67|\n",
            "+--------------------+---------------------+\n",
            "only showing top 20 rows\n",
            "\n"
          ]
        }
      ]
    }
  ]
}